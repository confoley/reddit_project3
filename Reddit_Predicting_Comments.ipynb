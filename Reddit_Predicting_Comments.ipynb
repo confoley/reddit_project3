{
 "cells": [
  {
   "cell_type": "markdown",
   "metadata": {},
   "source": [
    "# Using Reddit's API to Predict Number of Comments\n",
    "*Connor Foley*, Data Science Immersive, General Assembly NYC, June 2018"
   ]
  },
  {
   "cell_type": "markdown",
   "metadata": {},
   "source": [
    "In this project, I aimed to predict which features would predict whether or not a post on reddit makes it to the \"hot\" subreddit, which is a page for posts with high user interaction, as measured by the number of comments on the post. To gather the data, I scraped JSON post data from reddit's API and saved it to a .csv file. I set the target variable to a binarized measure of number of comments: above the mean amount of comments or below it.\n",
    "\n",
    "I tried a few different kinds of models. Because there was text data and numerical data, I initially isolated them to look at how they performed on their own. A Logistic Regression model on only the numerical data gave me an accuracy score of 0.88, which is just short of the score for my best model. Using Count Vectorizer on the post title and running it through a Bernoulli Naïve Bayes model, I got a score that was about the same as the baseline. Hoping that a combination of these two initial approaches would give me a higher score, I used FeatureUnion to fit two pipelines inside a pipeline in order to combine text and numerical data. This resulted in a better score (0.91), but not as much as an improvement from the baseline as I had hoped for. Moving forward I would like to try both a regression model and a multi-class classification model.  "
   ]
  },
  {
   "cell_type": "code",
   "execution_count": 3,
   "metadata": {},
   "outputs": [],
   "source": [
    "import requests\n",
    "import json\n",
    "import pandas as pd\n",
    "import numpy as np\n",
    "import time\n",
    "from sklearn.model_selection import train_test_split, GridSearchCV, cross_val_score\n",
    "from sklearn.ensemble import RandomForestClassifier, ExtraTreesClassifier\n",
    "from sklearn.pipeline import Pipeline, FeatureUnion\n",
    "from sklearn.preprocessing import StandardScaler\n",
    "from sklearn.neighbors import KNeighborsClassifier\n",
    "from sklearn.linear_model import LogisticRegression\n",
    "from sklearn.feature_extraction.text import CountVectorizer, TfidfVectorizer, TfidfTransformer\n",
    "from sklearn.naive_bayes import BernoulliNB\n",
    "from sklearn.base import TransformerMixin, BaseEstimator\n",
    "from sklearn.metrics import classification_report, confusion_matrix\n",
    "import matplotlib\n",
    "import matplotlib.pyplot as plt\n",
    "import seaborn as sns\n",
    "%matplotlib inline"
   ]
  },
  {
   "cell_type": "markdown",
   "metadata": {},
   "source": [
    "### Step 1: Define the Problem\n",
    "In this project, I am looking at the /hot subreddit of reddit.com, and building a model that accurately predicts whether or not a post will become \"hot,\" having gained a high number of comments.\n",
    "\n",
    "The target we are predicting is the number of comments a post has, which I binarized based on the mean. The required features for this project are subreddit name, post title, and time of post. However, I incorporated and created several other features I thought could be of importance."
   ]
  },
  {
   "cell_type": "markdown",
   "metadata": {},
   "source": [
    "### Step 2: Scrape Post Data from Reddit's API"
   ]
  },
  {
   "cell_type": "code",
   "execution_count": null,
   "metadata": {},
   "outputs": [],
   "source": [
    "url = \"http://www.reddit.com/hot.json\"\n",
    "headers = {'User-agent': 'Con bot 0.1'}\n",
    "res = requests.get(url, headers=headers)\n",
    "res.status_code"
   ]
  },
  {
   "cell_type": "code",
   "execution_count": null,
   "metadata": {},
   "outputs": [],
   "source": [
    "reddit = res.json()\n",
    "print(reddit.keys())\n",
    "print(reddit['data'].keys())\n",
    "print(reddit['kind'])"
   ]
  },
  {
   "cell_type": "code",
   "execution_count": null,
   "metadata": {},
   "outputs": [],
   "source": [
    "## Brief exploration of the JSON\n",
    "sorted(reddit['data']['children'][0]['data'].keys())"
   ]
  },
  {
   "cell_type": "markdown",
   "metadata": {},
   "source": [
    "Here I pull multiple pages of post data, extract the JSON data, and store it in a list of dictionaries so that I can convert it into a DataFrame."
   ]
  },
  {
   "cell_type": "code",
   "execution_count": null,
   "metadata": {},
   "outputs": [],
   "source": [
    "print(reddit['data']['after'])\n",
    "param = {'after': 't3_8mrd11'}"
   ]
  },
  {
   "cell_type": "code",
   "execution_count": null,
   "metadata": {},
   "outputs": [],
   "source": [
    "posts = []\n",
    "after = None\n",
    "for i in range(168):\n",
    "    if i % 12 == 0:\n",
    "        print('{} of 168'.format(i)) \n",
    "    if after == None:\n",
    "        params = {}\n",
    "    else: \n",
    "        params = {'after': after}\n",
    "    res = requests.get(url, params=params, headers=headers)\n",
    "    if res.status_code == 200:\n",
    "        reddit = res.json()\n",
    "        posts.extend(reddit['data']['children'])\n",
    "        after = reddit['data']['after']\n",
    "    else:\n",
    "        print(res.status_code)\n",
    "        break\n",
    "    time.sleep(3)"
   ]
  },
  {
   "cell_type": "code",
   "execution_count": null,
   "metadata": {},
   "outputs": [],
   "source": [
    "len(set(p['data']['name'] for p in posts))"
   ]
  },
  {
   "cell_type": "markdown",
   "metadata": {},
   "source": [
    "I pulled 4200 posts. The length above is 4045, meaning there are 155 duplicates.\n",
    "\n",
    "Below I save everything I have scraped to `posts_df`, and then run a for loop to extract the data I know I will definitely need from the list of posts to a nice, cleaned DataFrame. I saved both to a .csv file as I went."
   ]
  },
  {
   "cell_type": "code",
   "execution_count": null,
   "metadata": {},
   "outputs": [],
   "source": [
    "posts_df = pd.DataFrame(posts)\n",
    "posts_df.to_csv('./data/posts.csv')"
   ]
  },
  {
   "cell_type": "code",
   "execution_count": null,
   "metadata": {},
   "outputs": [],
   "source": [
    "needed_data = []\n",
    "for n in range(4200):\n",
    "    post_dict = {}\n",
    "    post_data = posts_df.iloc[n,0]\n",
    "    post_dict['title'] = post_data['title']\n",
    "    post_dict['subreddit'] = post_data['subreddit']\n",
    "    post_dict['created_utc'] = post_data['created_utc']\n",
    "    post_dict['num_comments'] = post_data['num_comments']\n",
    "    needed_data.append(post_dict)"
   ]
  },
  {
   "cell_type": "code",
   "execution_count": null,
   "metadata": {},
   "outputs": [],
   "source": [
    "needed = pd.DataFrame(needed_data)\n",
    "needed.to_csv('./data/needed.csv')"
   ]
  },
  {
   "cell_type": "markdown",
   "metadata": {},
   "source": [
    "### Step 3: Explore the Data\n",
    "#### Load the .csv File\n",
    "Here is where you may start running the cells."
   ]
  },
  {
   "cell_type": "code",
   "execution_count": 4,
   "metadata": {},
   "outputs": [
    {
     "data": {
      "text/html": [
       "<div>\n",
       "<style scoped>\n",
       "    .dataframe tbody tr th:only-of-type {\n",
       "        vertical-align: middle;\n",
       "    }\n",
       "\n",
       "    .dataframe tbody tr th {\n",
       "        vertical-align: top;\n",
       "    }\n",
       "\n",
       "    .dataframe thead th {\n",
       "        text-align: right;\n",
       "    }\n",
       "</style>\n",
       "<table border=\"1\" class=\"dataframe\">\n",
       "  <thead>\n",
       "    <tr style=\"text-align: right;\">\n",
       "      <th></th>\n",
       "      <th>data</th>\n",
       "      <th>kind</th>\n",
       "    </tr>\n",
       "  </thead>\n",
       "  <tbody>\n",
       "    <tr>\n",
       "      <th>0</th>\n",
       "      <td>{'is_crosspostable': False, 'subreddit_id': 't...</td>\n",
       "      <td>t3</td>\n",
       "    </tr>\n",
       "    <tr>\n",
       "      <th>1</th>\n",
       "      <td>{'is_crosspostable': False, 'subreddit_id': 't...</td>\n",
       "      <td>t3</td>\n",
       "    </tr>\n",
       "    <tr>\n",
       "      <th>2</th>\n",
       "      <td>{'is_crosspostable': False, 'subreddit_id': 't...</td>\n",
       "      <td>t3</td>\n",
       "    </tr>\n",
       "    <tr>\n",
       "      <th>3</th>\n",
       "      <td>{'is_crosspostable': False, 'subreddit_id': 't...</td>\n",
       "      <td>t3</td>\n",
       "    </tr>\n",
       "    <tr>\n",
       "      <th>4</th>\n",
       "      <td>{'is_crosspostable': False, 'subreddit_id': 't...</td>\n",
       "      <td>t3</td>\n",
       "    </tr>\n",
       "  </tbody>\n",
       "</table>\n",
       "</div>"
      ],
      "text/plain": [
       "                                                data kind\n",
       "0  {'is_crosspostable': False, 'subreddit_id': 't...   t3\n",
       "1  {'is_crosspostable': False, 'subreddit_id': 't...   t3\n",
       "2  {'is_crosspostable': False, 'subreddit_id': 't...   t3\n",
       "3  {'is_crosspostable': False, 'subreddit_id': 't...   t3\n",
       "4  {'is_crosspostable': False, 'subreddit_id': 't...   t3"
      ]
     },
     "execution_count": 4,
     "metadata": {},
     "output_type": "execute_result"
    }
   ],
   "source": [
    "posts_df = pd.read_csv('./data/posts.csv') \n",
    "posts_df.drop('Unnamed: 0', axis=1, inplace=True)\n",
    "posts_df.head()"
   ]
  },
  {
   "cell_type": "markdown",
   "metadata": {},
   "source": [
    "Unfortunately, the way I saved the .csv for all the data I scraped resulted in my 'data' column containing the JSON dictionaries inside strings. Thankfully, there's a handy import called ast to fix this. I converted the strings into dictionaries and saved them to a list, in which I used a for loop to extract the extra features I wanted to include and add them to my already cleaned DataFrame of required data."
   ]
  },
  {
   "cell_type": "code",
   "execution_count": 5,
   "metadata": {},
   "outputs": [
    {
     "data": {
      "text/plain": [
       "dict"
      ]
     },
     "execution_count": 5,
     "metadata": {},
     "output_type": "execute_result"
    }
   ],
   "source": [
    "import ast\n",
    "\n",
    "posts = posts_df['data']\n",
    "for n in range(len(posts)):\n",
    "    posts[n] = ast.literal_eval(posts[n])\n",
    "type(posts[0])"
   ]
  },
  {
   "cell_type": "code",
   "execution_count": 6,
   "metadata": {},
   "outputs": [],
   "source": [
    "redd = pd.read_csv('./data/needed.csv') # My cleaned DF\n",
    "redd.drop('Unnamed: 0', axis=1, inplace=True)"
   ]
  },
  {
   "cell_type": "code",
   "execution_count": 7,
   "metadata": {},
   "outputs": [],
   "source": [
    "new_cols = ['num_crossposts', 'is_video', 'subreddit_subscribers', 'score', 'permalink']\n",
    "other_data = []\n",
    "for n in range(4200):\n",
    "    post_dict = {}\n",
    "    post_data = posts[n]\n",
    "    for col in new_cols:\n",
    "        post_dict[col] = post_data[col]\n",
    "    other_data.append(post_dict)\n",
    "    others_df = pd.DataFrame(other_data)\n",
    "    reddit = pd.concat([redd, others_df], axis=1)"
   ]
  },
  {
   "cell_type": "markdown",
   "metadata": {},
   "source": [
    "I included permalink in order to drop duplicate posts. By dropping them by the permalink column, I ensured I would not drop a false duplicate."
   ]
  },
  {
   "cell_type": "code",
   "execution_count": 8,
   "metadata": {},
   "outputs": [
    {
     "name": "stdout",
     "output_type": "stream",
     "text": [
      "(4045, 9)\n"
     ]
    }
   ],
   "source": [
    "reddit.drop_duplicates('permalink', inplace=True)\n",
    "print(reddit.shape)\n",
    "reddit.drop('permalink', axis=1, inplace=True)"
   ]
  },
  {
   "cell_type": "code",
   "execution_count": 9,
   "metadata": {},
   "outputs": [],
   "source": [
    "reddit['created_utc'] = time.time() - reddit['created_utc'] # Relative time"
   ]
  },
  {
   "cell_type": "code",
   "execution_count": 10,
   "metadata": {},
   "outputs": [
    {
     "data": {
      "text/html": [
       "<div>\n",
       "<style scoped>\n",
       "    .dataframe tbody tr th:only-of-type {\n",
       "        vertical-align: middle;\n",
       "    }\n",
       "\n",
       "    .dataframe tbody tr th {\n",
       "        vertical-align: top;\n",
       "    }\n",
       "\n",
       "    .dataframe thead th {\n",
       "        text-align: right;\n",
       "    }\n",
       "</style>\n",
       "<table border=\"1\" class=\"dataframe\">\n",
       "  <thead>\n",
       "    <tr style=\"text-align: right;\">\n",
       "      <th></th>\n",
       "      <th>created_utc</th>\n",
       "      <th>num_comments</th>\n",
       "      <th>subreddit</th>\n",
       "      <th>title</th>\n",
       "      <th>is_video</th>\n",
       "      <th>num_crossposts</th>\n",
       "      <th>score</th>\n",
       "      <th>subreddit_subscribers</th>\n",
       "    </tr>\n",
       "  </thead>\n",
       "  <tbody>\n",
       "    <tr>\n",
       "      <th>0</th>\n",
       "      <td>541880.459872</td>\n",
       "      <td>200</td>\n",
       "      <td>blackpeoplegifs</td>\n",
       "      <td>Destiny calls</td>\n",
       "      <td>False</td>\n",
       "      <td>4</td>\n",
       "      <td>14867</td>\n",
       "      <td>327189</td>\n",
       "    </tr>\n",
       "    <tr>\n",
       "      <th>1</th>\n",
       "      <td>544896.459872</td>\n",
       "      <td>3113</td>\n",
       "      <td>MemeEconomy</td>\n",
       "      <td>This format can work for a variety of things. ...</td>\n",
       "      <td>False</td>\n",
       "      <td>7</td>\n",
       "      <td>38179</td>\n",
       "      <td>534642</td>\n",
       "    </tr>\n",
       "    <tr>\n",
       "      <th>2</th>\n",
       "      <td>541610.459872</td>\n",
       "      <td>224</td>\n",
       "      <td>StarWars</td>\n",
       "      <td>So I got married last night...</td>\n",
       "      <td>False</td>\n",
       "      <td>1</td>\n",
       "      <td>12216</td>\n",
       "      <td>881134</td>\n",
       "    </tr>\n",
       "    <tr>\n",
       "      <th>3</th>\n",
       "      <td>543846.459872</td>\n",
       "      <td>1321</td>\n",
       "      <td>pics</td>\n",
       "      <td>This guy holding an umbrella over a soldier st...</td>\n",
       "      <td>False</td>\n",
       "      <td>6</td>\n",
       "      <td>32034</td>\n",
       "      <td>18677607</td>\n",
       "    </tr>\n",
       "    <tr>\n",
       "      <th>4</th>\n",
       "      <td>546286.459872</td>\n",
       "      <td>597</td>\n",
       "      <td>nostalgia</td>\n",
       "      <td>The family computer</td>\n",
       "      <td>False</td>\n",
       "      <td>1</td>\n",
       "      <td>25514</td>\n",
       "      <td>408323</td>\n",
       "    </tr>\n",
       "  </tbody>\n",
       "</table>\n",
       "</div>"
      ],
      "text/plain": [
       "     created_utc  num_comments        subreddit  \\\n",
       "0  541880.459872           200  blackpeoplegifs   \n",
       "1  544896.459872          3113      MemeEconomy   \n",
       "2  541610.459872           224         StarWars   \n",
       "3  543846.459872          1321             pics   \n",
       "4  546286.459872           597        nostalgia   \n",
       "\n",
       "                                               title  is_video  \\\n",
       "0                                      Destiny calls     False   \n",
       "1  This format can work for a variety of things. ...     False   \n",
       "2                     So I got married last night...     False   \n",
       "3  This guy holding an umbrella over a soldier st...     False   \n",
       "4                                The family computer     False   \n",
       "\n",
       "   num_crossposts  score  subreddit_subscribers  \n",
       "0               4  14867                 327189  \n",
       "1               7  38179                 534642  \n",
       "2               1  12216                 881134  \n",
       "3               6  32034               18677607  \n",
       "4               1  25514                 408323  "
      ]
     },
     "execution_count": 10,
     "metadata": {},
     "output_type": "execute_result"
    }
   ],
   "source": [
    "reddit.head()"
   ]
  },
  {
   "cell_type": "markdown",
   "metadata": {},
   "source": [
    "#### Identify the Target\n",
    "We want to create a binary target from the num_comments column. First, let's look at the distribution. It is incredibly skewed right, with most posts having a small number of comments.\n",
    "\n",
    "The median is only 19, while the maximum value is 10,546 comments. The distribution is so heavily skewed that the 3rd quartile is less than the mean. "
   ]
  },
  {
   "cell_type": "code",
   "execution_count": 11,
   "metadata": {},
   "outputs": [
    {
     "name": "stderr",
     "output_type": "stream",
     "text": [
      "/anaconda3/envs/dsi/lib/python3.6/site-packages/matplotlib/axes/_axes.py:6462: UserWarning: The 'normed' kwarg is deprecated, and has been replaced by the 'density' kwarg.\n",
      "  warnings.warn(\"The 'normed' kwarg is deprecated, and has been \"\n"
     ]
    },
    {
     "data": {
      "image/png": "[encoded data removed]",
      "text/plain": [
       "<Figure size 864x360 with 1 Axes>"
      ]
     },
     "metadata": {},
     "output_type": "display_data"
    }
   ],
   "source": [
    "fix, ax = plt.subplots(figsize=(12,5))\n",
    "sns.distplot(reddit['num_comments']);"
   ]
  },
  {
   "cell_type": "code",
   "execution_count": 12,
   "metadata": {},
   "outputs": [
    {
     "data": {
      "text/plain": [
       "count     4045.000000\n",
       "mean        79.350309\n",
       "std        323.166913\n",
       "min          0.000000\n",
       "25%          7.000000\n",
       "50%         19.000000\n",
       "75%         50.000000\n",
       "max      10546.000000\n",
       "Name: num_comments, dtype: float64"
      ]
     },
     "execution_count": 12,
     "metadata": {},
     "output_type": "execute_result"
    }
   ],
   "source": [
    "reddit['num_comments'].describe()"
   ]
  },
  {
   "cell_type": "code",
   "execution_count": 13,
   "metadata": {},
   "outputs": [
    {
     "name": "stdout",
     "output_type": "stream",
     "text": [
      "Top ten largest values: [3147, 3301, 3446, 3627, 3674, 3989, 4534, 5866, 6715, 10546]\n"
     ]
    }
   ],
   "source": [
    "# There are some clear outliers:\n",
    "print(\"Top ten largest values:\", sorted(reddit['num_comments'])[-10:])"
   ]
  },
  {
   "cell_type": "code",
   "execution_count": 14,
   "metadata": {},
   "outputs": [
    {
     "name": "stdout",
     "output_type": "stream",
     "text": [
      "Baseline accuracy: 0.8286773794808405\n"
     ]
    }
   ],
   "source": [
    "# Create binary high comment target:\n",
    "reddit['high_comment_mean'] = (reddit.num_comments > 79.35)*1\n",
    "print(\"Baseline accuracy:\", reddit.high_comment_mean.value_counts()[0]/len(reddit.high_comment_mean))"
   ]
  },
  {
   "cell_type": "markdown",
   "metadata": {},
   "source": [
    "#### Some Feature Engineering\n",
    "I approached this with the assumption that many of the posts with the most amount of comments would come from a few of the same very popular subreddits, such as /r/pics. Therefore, I decided to use `get_dummies` on the subreddit column. \n",
    "\n",
    "To practice some additional feature engineering, I created two new columns out of the 'title' column: \n",
    "- A column in which the word \"best\" appears in the post title\n",
    "- A column in which the first word is \"when\" (Considering one-liner memes such as _when the bass drops_)"
   ]
  },
  {
   "cell_type": "code",
   "execution_count": 15,
   "metadata": {},
   "outputs": [],
   "source": [
    "best = []\n",
    "for n in reddit.title:\n",
    "    if \"best\" in n:\n",
    "        best.append(1)\n",
    "    elif \"Best\" in n:\n",
    "        best.append(1)\n",
    "    elif \"BEST\" in n:\n",
    "        best.append(1)\n",
    "    else:\n",
    "        best.append(0)\n",
    "reddit['best']=best"
   ]
  },
  {
   "cell_type": "code",
   "execution_count": 16,
   "metadata": {},
   "outputs": [],
   "source": [
    "when = []\n",
    "for n in reddit.title:\n",
    "    if n[0:4]==\"when\":\n",
    "        when.append(1)\n",
    "    elif n[0:4]==\"When\":\n",
    "        when.append(1)\n",
    "    elif n[0:4]==\"WHEN\":\n",
    "        when.append(1)\n",
    "    else:\n",
    "        when.append(0)\n",
    "reddit['when'] = when"
   ]
  },
  {
   "cell_type": "markdown",
   "metadata": {},
   "source": [
    "I created a DataFrame of strictly numerical data and removed the target."
   ]
  },
  {
   "cell_type": "code",
   "execution_count": 17,
   "metadata": {},
   "outputs": [
    {
     "data": {
      "text/plain": [
       "uint8      1987\n",
       "int64         6\n",
       "float64       1\n",
       "dtype: int64"
      ]
     },
     "execution_count": 17,
     "metadata": {},
     "output_type": "execute_result"
    }
   ],
   "source": [
    "subreddit_dummies = pd.get_dummies(reddit['subreddit'])\n",
    "new_reddit = pd.concat([reddit, subreddit_dummies], axis=1)\n",
    "new_reddit = new_reddit.drop(['subreddit','title','num_comments', 'high_comment_mean'], axis=1)\n",
    "new_reddit['is_video'] = (new_reddit['is_video']==True).astype(int)\n",
    "new_reddit.dtypes.value_counts() "
   ]
  },
  {
   "cell_type": "markdown",
   "metadata": {},
   "source": [
    "# Step 4: Model\n",
    "With my DataFrame of strictly numerical data, i.e. all features except \"title\", I wanted to see how a Logistic Regression model would score.\n",
    "\n",
    "#### Logistic Regression on Numerical Data"
   ]
  },
  {
   "cell_type": "code",
   "execution_count": 18,
   "metadata": {},
   "outputs": [],
   "source": [
    "# Train Test Split\n",
    "X_train, X_test, y_train, y_test = train_test_split(new_reddit, reddit['high_comment_mean'], random_state=24, stratify=reddit['high_comment_mean'])"
   ]
  },
  {
   "cell_type": "code",
   "execution_count": 19,
   "metadata": {},
   "outputs": [],
   "source": [
    "ss = StandardScaler()\n",
    "logreg = LogisticRegression(random_state=24)\n",
    "pipe = Pipeline([('ss', ss),('logreg', logreg)])"
   ]
  },
  {
   "cell_type": "code",
   "execution_count": 20,
   "metadata": {},
   "outputs": [
    {
     "data": {
      "text/plain": [
       "0.8784584980237155"
      ]
     },
     "execution_count": 20,
     "metadata": {},
     "output_type": "execute_result"
    }
   ],
   "source": [
    "pipe.fit(X_train, y_train)\n",
    "pipe.score(X_test, y_test)"
   ]
  },
  {
   "cell_type": "code",
   "execution_count": 21,
   "metadata": {},
   "outputs": [
    {
     "data": {
      "text/plain": [
       "0.852820985248438"
      ]
     },
     "execution_count": 21,
     "metadata": {},
     "output_type": "execute_result"
    }
   ],
   "source": [
    "# An improvement from the baseline\n",
    "cross_val_score(pipe, X_test, y_test, cv=6).mean()"
   ]
  },
  {
   "cell_type": "code",
   "execution_count": 22,
   "metadata": {},
   "outputs": [
    {
     "data": {
      "text/plain": [
       "0.8824110671936759"
      ]
     },
     "execution_count": 22,
     "metadata": {},
     "output_type": "execute_result"
    }
   ],
   "source": [
    "# GridSearch to find best parameters:\n",
    "params = {\n",
    "    'logreg__penalty': ['l1','l2'],\n",
    "    'logreg__C': [.3,.4,.5,.6,.7,.8,.9,1.0]\n",
    "}\n",
    "gs = GridSearchCV(pipe, param_grid=params, scoring='accuracy')\n",
    "gs.fit(X_train, y_train)\n",
    "gs.score(X_test, y_test)"
   ]
  },
  {
   "cell_type": "markdown",
   "metadata": {},
   "source": [
    "It is not worth including all the code, but trying a kNN Classifier model on the same features resulted in a worse score than the baseline on the test data, exhibiting a high level of overfitting on the training data."
   ]
  },
  {
   "cell_type": "markdown",
   "metadata": {},
   "source": [
    "#### Next Steps\n",
    "I wanted to use some Natural Language Processing tools on the \"title\" column. However, creating a model using CountVectorizer and Bernoulli Naïve Bayes on \"title\" resulted in an accuracy score about the same as the baseline. Therefore, I wanted to try to create a model that combines my numerical data, which I used with the Logistic Regression model, with some Natural Language Processing.\n",
    "\n",
    "The natural conclusion was to use FeatureUnion, nesting two pipelines within a pipeline. Using GridSearchCV, I reasoned that the combination of these models would give me an accuracy score significantly better than the baseline."
   ]
  },
  {
   "cell_type": "markdown",
   "metadata": {},
   "source": [
    "### MetaPipeline with FeatureUnion\n",
    "Given that we have unbalanced classes in the target, I wanted to first try a model that will use bootstrapping: Random Forest Classifier."
   ]
  },
  {
   "cell_type": "code",
   "execution_count": 69,
   "metadata": {},
   "outputs": [],
   "source": [
    "X = pd.concat([new_reddit, reddit['title']], axis=1)\n",
    "y = reddit['high_comment_mean']\n",
    "cont_cols = [col for col in X.columns if col !='title']"
   ]
  },
  {
   "cell_type": "code",
   "execution_count": 70,
   "metadata": {},
   "outputs": [],
   "source": [
    "X_train, X_test, y_train, y_test, = train_test_split(X, y, random_state=24)"
   ]
  },
  {
   "cell_type": "code",
   "execution_count": 71,
   "metadata": {},
   "outputs": [],
   "source": [
    "# Define a class to tell the pipeline which features to take\n",
    "class DfExtract(BaseEstimator, TransformerMixin):\n",
    "    def __init__(self, column):\n",
    "        self.column = column\n",
    "    def fit(self, X, y=None):\n",
    "        return self\n",
    "    def transform(self, X, y=None):\n",
    "        if len(self.column) > 1:\n",
    "            return pd.DataFrame(X[self.column])\n",
    "        else:\n",
    "            return pd.Series(X[self.column[0]]) "
   ]
  },
  {
   "cell_type": "code",
   "execution_count": 72,
   "metadata": {},
   "outputs": [],
   "source": [
    "rf_pipeline = Pipeline([\n",
    "    ('features', FeatureUnion([\n",
    "        ('post_title', Pipeline([\n",
    "            ('text', DfExtract(['title'])),\n",
    "            ('cvec', CountVectorizer(binary=True, stop_words='english')),\n",
    "            ])),\n",
    "        ('num_features', Pipeline([\n",
    "            ('num_cols', DfExtract(cont_cols)),\n",
    "            ('ss', StandardScaler())\n",
    "        ])),\n",
    "    ])),\n",
    "    ('rf', RandomForestClassifier(random_state=24))\n",
    "])"
   ]
  },
  {
   "cell_type": "code",
   "execution_count": 73,
   "metadata": {},
   "outputs": [],
   "source": [
    "parameters = {\n",
    "    'rf__n_estimators': [10,30,40,50,60],\n",
    "    'rf__max_depth': [None,4,5],\n",
    "    'rf__max_features': ['auto', 'log2', 15, 20]\n",
    "}\n",
    "rf_gs = GridSearchCV(rf_pipeline, param_grid=parameters, scoring='accuracy')"
   ]
  },
  {
   "cell_type": "code",
   "execution_count": 74,
   "metadata": {},
   "outputs": [
    {
     "data": {
      "text/plain": [
       "0.8962450592885376"
      ]
     },
     "execution_count": 74,
     "metadata": {},
     "output_type": "execute_result"
    }
   ],
   "source": [
    "rf_gs.fit(X_train, y_train)\n",
    "rf_gs.score(X_test, y_test)"
   ]
  },
  {
   "cell_type": "code",
   "execution_count": 29,
   "metadata": {},
   "outputs": [
    {
     "data": {
      "text/plain": [
       "{'rf__max_depth': None, 'rf__max_features': 'auto', 'rf__n_estimators': 40}"
      ]
     },
     "execution_count": 29,
     "metadata": {},
     "output_type": "execute_result"
    }
   ],
   "source": [
    "rf_gs.best_params_"
   ]
  },
  {
   "cell_type": "markdown",
   "metadata": {},
   "source": [
    "##### However...\n",
    "Logistic Regression ended up giving me a slightly better score, despite the intuition that a bootstrapping model would make more sense for this kind of data."
   ]
  },
  {
   "cell_type": "code",
   "execution_count": 30,
   "metadata": {},
   "outputs": [],
   "source": [
    "pipeline = Pipeline([\n",
    "    ('features', FeatureUnion([\n",
    "        ('post_title', Pipeline([\n",
    "            ('text', DfExtract(['title'])),\n",
    "            ('cvec', CountVectorizer(binary=True, stop_words='english')),\n",
    "            ])),\n",
    "        ('num_features', Pipeline([\n",
    "            ('num_cols', DfExtract(cont_cols)),\n",
    "            ('ss', StandardScaler())\n",
    "        ])),\n",
    "    ])),\n",
    "    ('logreg', LogisticRegression(random_state=24))\n",
    "])"
   ]
  },
  {
   "cell_type": "code",
   "execution_count": 31,
   "metadata": {},
   "outputs": [],
   "source": [
    "parameters = {\n",
    "    'logreg__penalty': ['l1','l2'],\n",
    "    'logreg__C': [.3,.4,.5,.6,.7,.8,.9,1.0],\n",
    "}\n",
    "gs = GridSearchCV(pipeline, param_grid=parameters, scoring='accuracy')"
   ]
  },
  {
   "cell_type": "code",
   "execution_count": 32,
   "metadata": {},
   "outputs": [
    {
     "data": {
      "text/plain": [
       "0.9051383399209486"
      ]
     },
     "execution_count": 32,
     "metadata": {},
     "output_type": "execute_result"
    }
   ],
   "source": [
    "gs.fit(X_train, y_train)\n",
    "gs.score(X_test, y_test)"
   ]
  },
  {
   "cell_type": "code",
   "execution_count": 33,
   "metadata": {},
   "outputs": [
    {
     "data": {
      "text/plain": [
       "{'logreg__C': 0.8, 'logreg__penalty': 'l1'}"
      ]
     },
     "execution_count": 33,
     "metadata": {},
     "output_type": "execute_result"
    }
   ],
   "source": [
    "gs.best_params_"
   ]
  },
  {
   "cell_type": "markdown",
   "metadata": {},
   "source": [
    "# Step 5: Evaluate Model\n",
    "The total scores from the classification report for both models are 0.88-0.91, which is about the same as the accuracy score. Also, given that the optimal penalty for the LogisticRegression model was Lasso, we can conclude that there were irrelevant features in the model.\n",
    "\n",
    "Given that there were unbalanced classes in the target variable, I wanted to include a model that would bootstrap data from an underrepresented class, hence trying RandomForest and LogisticRegression. Both gave around the same score, with LogisticRegression performing slightly better. "
   ]
  },
  {
   "cell_type": "code",
   "execution_count": 148,
   "metadata": {},
   "outputs": [
    {
     "name": "stdout",
     "output_type": "stream",
     "text": [
      "               precision    recall  f1-score   support\n",
      "\n",
      " Low Comments       0.90      0.99      0.94       845\n",
      "High Comments       0.87      0.44      0.58       167\n",
      "\n",
      "  avg / total       0.89      0.90      0.88      1012\n",
      "\n"
     ]
    }
   ],
   "source": [
    "# Classification Report for Random Forest:\n",
    "rf_predictions = rf_gs.predict(X_test)\n",
    "print(classification_report(y_test, rf_predictions, target_names=['Low Comments', 'High Comments']))"
   ]
  },
  {
   "cell_type": "code",
   "execution_count": 149,
   "metadata": {},
   "outputs": [
    {
     "name": "stdout",
     "output_type": "stream",
     "text": [
      "               precision    recall  f1-score   support\n",
      "\n",
      " Low Comments       0.93      0.96      0.94       845\n",
      "High Comments       0.76      0.62      0.68       167\n",
      "\n",
      "  avg / total       0.90      0.91      0.90      1012\n",
      "\n"
     ]
    }
   ],
   "source": [
    "# Classification Report for Logistic Regression:\n",
    "predictions = gs.predict(X_test)\n",
    "print(classification_report(y_test, predictions, target_names=['Low Comments', 'High Comments']))"
   ]
  },
  {
   "cell_type": "markdown",
   "metadata": {},
   "source": [
    "I used a function from scikitlearn's documentation on confusion matrices to plot one:\n",
    "_This is for the Logistic Regression model._"
   ]
  },
  {
   "cell_type": "code",
   "execution_count": 35,
   "metadata": {},
   "outputs": [
    {
     "name": "stdout",
     "output_type": "stream",
     "text": [
      "Confusion matrix, without normalization\n",
      "[[812  33]\n",
      " [ 63 104]]\n",
      "Normalized confusion matrix\n",
      "[[0.96 0.04]\n",
      " [0.38 0.62]]\n"
     ]
    },
    {
     "data": {
      "image/png": "[encoded data removed]",
      "text/plain": [
       "<Figure size 576x576 with 2 Axes>"
      ]
     },
     "metadata": {},
     "output_type": "display_data"
    },
    {
     "data": {
      "image/png": "[encoded data removed]",
      "text/plain": [
       "<Figure size 576x576 with 2 Axes>"
      ]
     },
     "metadata": {},
     "output_type": "display_data"
    }
   ],
   "source": [
    "import itertools\n",
    "\n",
    "# From ScikitLearn's documentation:\n",
    "def plot_confusion_matrix(cm, classes,\n",
    "                          normalize=False,\n",
    "                          title='Confusion matrix',\n",
    "                          cmap=plt.cm.Blues):\n",
    "    \"\"\"\n",
    "    This function prints and plots the confusion matrix.\n",
    "    Normalization can be applied by setting `normalize=True`.\n",
    "    \"\"\"\n",
    "    if normalize:\n",
    "        cm = cm.astype('float') / cm.sum(axis=1)[:, np.newaxis]\n",
    "        print(\"Normalized confusion matrix\")\n",
    "    else:\n",
    "        print('Confusion matrix, without normalization')\n",
    "\n",
    "    print(cm)\n",
    "\n",
    "    plt.imshow(cm, interpolation='nearest', cmap=cmap)\n",
    "    plt.title(title)\n",
    "    plt.colorbar()\n",
    "    tick_marks = np.arange(len(classes))\n",
    "    plt.xticks(tick_marks, classes, rotation=45)\n",
    "    plt.yticks(tick_marks, classes)\n",
    "\n",
    "    fmt = '.2f' if normalize else 'd'\n",
    "    thresh = cm.max() / 2.\n",
    "    for i, j in itertools.product(range(cm.shape[0]), range(cm.shape[1])):\n",
    "        plt.text(j, i, format(cm[i, j], fmt),\n",
    "                 horizontalalignment=\"center\",\n",
    "                 color=\"white\" if cm[i, j] > thresh else \"black\")\n",
    "\n",
    "    plt.tight_layout()\n",
    "    plt.ylabel('True label')\n",
    "    plt.xlabel('Predicted label')\n",
    "\n",
    "cnf_matrix = confusion_matrix(y_test, predictions)\n",
    "np.set_printoptions(precision=2)\n",
    "\n",
    "plt.figure(figsize=(8,8))\n",
    "plot_confusion_matrix(cnf_matrix, classes=['Low Comments','High Comments'],\n",
    "                      title='Confusion matrix')\n",
    "\n",
    "plt.figure(figsize=(8,8))\n",
    "plot_confusion_matrix(cnf_matrix, classes=['Low Comments','High Comments'], normalize=True,\n",
    "                      title='Normalized confusion matrix')\n",
    "\n",
    "plt.show()"
   ]
  },
  {
   "cell_type": "markdown",
   "metadata": {},
   "source": [
    "# Step 6: Answer the Question\n",
    "#### Interpreting the Feature Importances\n",
    "The models I chose are extremely difficult to interpret. Seeing as how the model only improved by 0.1 from the baseline, I didn't expect to see any very high coefficients. The highest from the RandomForest model are in the thousandth decimal range or lower, and they are all dummies of subreddits. "
   ]
  },
  {
   "cell_type": "code",
   "execution_count": 97,
   "metadata": {},
   "outputs": [],
   "source": [
    "rf_feats = pd.DataFrame(\n",
    "    list(\n",
    "        zip(X_test.columns, np.abs(\n",
    "            rf_gs.best_estimator_.steps[1][1].feature_importances_))), columns=['feature','coef_abs'])\n"
   ]
  },
  {
   "cell_type": "code",
   "execution_count": 100,
   "metadata": {},
   "outputs": [
    {
     "data": {
      "text/html": [
       "<div>\n",
       "<style scoped>\n",
       "    .dataframe tbody tr th:only-of-type {\n",
       "        vertical-align: middle;\n",
       "    }\n",
       "\n",
       "    .dataframe tbody tr th {\n",
       "        vertical-align: top;\n",
       "    }\n",
       "\n",
       "    .dataframe thead th {\n",
       "        text-align: right;\n",
       "    }\n",
       "</style>\n",
       "<table border=\"1\" class=\"dataframe\">\n",
       "  <thead>\n",
       "    <tr style=\"text-align: right;\">\n",
       "      <th></th>\n",
       "      <th>feature</th>\n",
       "      <th>coef_abs</th>\n",
       "    </tr>\n",
       "  </thead>\n",
       "  <tbody>\n",
       "    <tr>\n",
       "      <th>536</th>\n",
       "      <td>Lovecraft</td>\n",
       "      <td>0.001057</td>\n",
       "    </tr>\n",
       "    <tr>\n",
       "      <th>196</th>\n",
       "      <td>Catloaf</td>\n",
       "      <td>0.001040</td>\n",
       "    </tr>\n",
       "    <tr>\n",
       "      <th>1715</th>\n",
       "      <td>robotics</td>\n",
       "      <td>0.001030</td>\n",
       "    </tr>\n",
       "    <tr>\n",
       "      <th>891</th>\n",
       "      <td>Torontobluejays</td>\n",
       "      <td>0.001023</td>\n",
       "    </tr>\n",
       "    <tr>\n",
       "      <th>1177</th>\n",
       "      <td>crossdressing</td>\n",
       "      <td>0.001020</td>\n",
       "    </tr>\n",
       "    <tr>\n",
       "      <th>586</th>\n",
       "      <td>MilitaryPorn</td>\n",
       "      <td>0.001007</td>\n",
       "    </tr>\n",
       "    <tr>\n",
       "      <th>661</th>\n",
       "      <td>OutOfTheLoop</td>\n",
       "      <td>0.001002</td>\n",
       "    </tr>\n",
       "    <tr>\n",
       "      <th>156</th>\n",
       "      <td>Braves</td>\n",
       "      <td>0.000967</td>\n",
       "    </tr>\n",
       "    <tr>\n",
       "      <th>1252</th>\n",
       "      <td>entwives</td>\n",
       "      <td>0.000939</td>\n",
       "    </tr>\n",
       "    <tr>\n",
       "      <th>187</th>\n",
       "      <td>CanadianForces</td>\n",
       "      <td>0.000917</td>\n",
       "    </tr>\n",
       "  </tbody>\n",
       "</table>\n",
       "</div>"
      ],
      "text/plain": [
       "              feature  coef_abs\n",
       "536         Lovecraft  0.001057\n",
       "196           Catloaf  0.001040\n",
       "1715         robotics  0.001030\n",
       "891   Torontobluejays  0.001023\n",
       "1177    crossdressing  0.001020\n",
       "586      MilitaryPorn  0.001007\n",
       "661      OutOfTheLoop  0.001002\n",
       "156            Braves  0.000967\n",
       "1252         entwives  0.000939\n",
       "187    CanadianForces  0.000917"
      ]
     },
     "execution_count": 100,
     "metadata": {},
     "output_type": "execute_result"
    }
   ],
   "source": [
    "rf_feats = rf_coefs.sort_values('coef_abs', ascending=False)\n",
    "rf_feats.head(10)\n",
    "# These are all subreddit dummies"
   ]
  },
  {
   "cell_type": "code",
   "execution_count": 156,
   "metadata": {},
   "outputs": [],
   "source": [
    "lr_coef_list = gs.best_estimator_.steps[1][1].coef_[0]"
   ]
  },
  {
   "cell_type": "code",
   "execution_count": 157,
   "metadata": {},
   "outputs": [],
   "source": [
    "lr_coefs = pd.DataFrame(\n",
    "    list(\n",
    "        zip(X_test.columns, np.abs(\n",
    "            lr_coef_list))), columns=['feature','coef_abs'])\n",
    "lr_coefs.sort_values('coef_abs', ascending=False, inplace=True)"
   ]
  },
  {
   "cell_type": "code",
   "execution_count": 158,
   "metadata": {},
   "outputs": [
    {
     "data": {
      "text/html": [
       "<div>\n",
       "<style scoped>\n",
       "    .dataframe tbody tr th:only-of-type {\n",
       "        vertical-align: middle;\n",
       "    }\n",
       "\n",
       "    .dataframe tbody tr th {\n",
       "        vertical-align: top;\n",
       "    }\n",
       "\n",
       "    .dataframe thead th {\n",
       "        text-align: right;\n",
       "    }\n",
       "</style>\n",
       "<table border=\"1\" class=\"dataframe\">\n",
       "  <thead>\n",
       "    <tr style=\"text-align: right;\">\n",
       "      <th></th>\n",
       "      <th>feature</th>\n",
       "      <th>coef_abs</th>\n",
       "    </tr>\n",
       "  </thead>\n",
       "  <tbody>\n",
       "  </tbody>\n",
       "</table>\n",
       "</div>"
      ],
      "text/plain": [
       "Empty DataFrame\n",
       "Columns: [feature, coef_abs]\n",
       "Index: []"
      ]
     },
     "execution_count": 158,
     "metadata": {},
     "output_type": "execute_result"
    }
   ],
   "source": [
    "lr_coefs[abs(lr_coefs['coef_abs']) > 0]"
   ]
  },
  {
   "cell_type": "markdown",
   "metadata": {},
   "source": [
    "### Conclusions\n",
    "Though the models have around 90% accuracy, I was hoping for a greater improvement from the baseline. The number of comments on a reddit post inevitably comes down to human activity, which is inherently unpredictable. Were I to create a classification model for this problem again, I would have created more than one class for number of comments. Based on the extremely skewed distribution of number of comments, it would have been prudent to create a \"low comment\" class, a \"high comment\" class, and a \"ultra-high comment\" class. Likewise, although the purpose of this project was to use a classification model, a regression analysis would have made sense as well. "
   ]
  }
 ],
 "metadata": {
  "kernelspec": {
   "display_name": "Python [conda env:dsi]",
   "language": "python",
   "name": "conda-env-dsi-py"
  },
  "language_info": {
   "codemirror_mode": {
    "name": "ipython",
    "version": 3
   },
   "file_extension": ".py",
   "mimetype": "text/x-python",
   "name": "python",
   "nbconvert_exporter": "python",
   "pygments_lexer": "ipython3",
   "version": "3.6.5"
  }
 },
 "nbformat": 4,
 "nbformat_minor": 2
}
